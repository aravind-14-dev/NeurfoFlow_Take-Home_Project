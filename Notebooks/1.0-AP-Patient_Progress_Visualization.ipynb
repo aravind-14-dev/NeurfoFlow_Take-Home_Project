{
 "cells": [
  {
   "cell_type": "code",
   "execution_count": null,
   "metadata": {},
   "outputs": [],
   "source": [
    "# Necessary imports\n",
    "import pandas as pd\n",
    "import numpy as np\n",
    "import os.path as path\n",
    "from datetime import datetime\n",
    "import matplotlib.pyplot as plt\n",
    "%matplotlib inline"
   ]
  },
  {
   "cell_type": "code",
   "execution_count": null,
   "metadata": {},
   "outputs": [],
   "source": [
    "#load the data into dataframe\n",
    "my_path = path.abspath(path.join(\"__file__\",\"../..\"))\n",
    "rel_path = 'Data\\phq_all_final.csv'\n",
    "csv_path = path.join(my_path,rel_path)\n",
    "df = pd.read_csv(csv_path)"
   ]
  },
  {
   "cell_type": "code",
   "execution_count": null,
   "metadata": {},
   "outputs": [],
   "source": [
    "#View the sample records\n",
    "df.head()"
   ]
  },
  {
   "cell_type": "code",
   "execution_count": null,
   "metadata": {},
   "outputs": [],
   "source": [
    "#Sort the records according to Patient_ID\n",
    "df1 = df.sort_values(['patient_id','date'],ignore_index=True)\n",
    "df1"
   ]
  },
  {
   "cell_type": "code",
   "execution_count": null,
   "metadata": {},
   "outputs": [],
   "source": [
    "#Convert Dates from String to Datetime\n",
    "df1['date'] = pd.to_datetime(df1['date'])\n",
    "df1['patient_date_created'] = pd.to_datetime(df1['patient_date_created'])\n",
    "df1.head()"
   ]
  },
  {
   "cell_type": "code",
   "execution_count": null,
   "metadata": {},
   "outputs": [],
   "source": [
    "# Extract only dates\n",
    "df1['date'] = df1['date'].apply(lambda x:x.date().strftime('%m-%d-%Y'))\n",
    "df1['patient_date_created'] = df1['patient_date_created'].apply(lambda x:x.date().strftime('%m-%d-%Y'))"
   ]
  },
  {
   "cell_type": "code",
   "execution_count": null,
   "metadata": {},
   "outputs": [],
   "source": [
    "# Drop duplicates which are multiple assessments in a day and retain the latest score\n",
    "df1 = df1.drop_duplicates(subset=['patient_id','date'],keep='last').reset_index(drop=True)\n",
    "df1"
   ]
  },
  {
   "cell_type": "code",
   "execution_count": null,
   "metadata": {},
   "outputs": [],
   "source": [
    "# Get the Patient_ID from user and extract records related to that patient only\n",
    "\n",
    "# Sample Patient IDs to see different cases = [2161, 6917, 7561, 48, 9]\n",
    "\n",
    "p_id = input(\"Enter the patient ID \") # Run the cell, enter the patient ID and press enter\n",
    "data = df1.query('patient_id==@p_id')\n",
    "print('p_id')\n",
    "data"
   ]
  },
  {
   "cell_type": "code",
   "execution_count": null,
   "metadata": {},
   "outputs": [],
   "source": [
    "class tracker:\n",
    "    \n",
    "    def __init__(self,data):\n",
    "        self.data = data\n",
    "        \n",
    "    \n",
    "    # status metric logic that shows different statuses related to the score\n",
    "    def status(self):\n",
    "        \n",
    "        l = list(self.data['score'])\n",
    "        status = ''           \n",
    "        \n",
    "        #consider only last 4 scores.\n",
    "        #Check if the patient has atleast 4 scores\n",
    "        if len(l) >=4:\n",
    "            \n",
    "            # check if difference between 4th last score and 3rd last score is a zone apart(lower Serverity Zone)\n",
    "            # check if last 3 scores lie in the same severity zone\n",
    "            \n",
    "            if l[-4] - l[-3] >=5:\n",
    "                if 0 <= abs(l[-3] -l[-2]) <5 and 0 <= abs(l[-3]-l[-1])<5:\n",
    "                    status = 'Improved'   \n",
    "                else:\n",
    "                    status = \"Inconsistent\"\n",
    "                    \n",
    "            # check if difference between 3rd last score and 4th last score is a zone apart(Higher Severity Zone)  \n",
    "            \n",
    "            elif l[-3] - l[-4] >=5:\n",
    "                if 0 <= abs(l[-3] -l[-2]) <5 and 0 <= abs(l[-3]-l[-1]) <5:\n",
    "                    status = \"Increased Severity\"\n",
    "                else:\n",
    "                    status = \"Inconsistent\"\n",
    "                    \n",
    "            # check if difference between 4th last and 3rd last score lie in the same severity zone  \n",
    "            # check if last 3 scores lie in the same severity zone\n",
    "            # check if last 2 scores lie in the same severity zone but not 3rd last\n",
    "            \n",
    "            elif 0 <= abs(l[-4] - l[-3]) <5:\n",
    "                 \n",
    "                if 0<= abs(l[-3] -l[-2]) <5 and 0 <=abs(l[-3]-l[-1])<5:\n",
    "                    status = \"No Change \"\n",
    "                elif l[-3] - l[-2] >=5 and l[-3] - l[-1] >=5:\n",
    "                    status = \"Improved\"\n",
    "                elif l[-2] - l[-3] >=5 and l[-1] - l[-3] >=5:\n",
    "                    status = \"Worsened\"\n",
    "                else:\n",
    "                    status = \"Inconsistent\"\n",
    "                    \n",
    "        # Patient has less than 4 scores           \n",
    "        else:\n",
    "            status = \"Need more sessions to track progress\"\n",
    "        \n",
    "        \n",
    "        return status\n",
    "    \n",
    "    \n",
    "    def visualize(self):\n",
    "        \n",
    "        # Line plot using date and score\n",
    "        plt.rcParams[\"figure.figsize\"] = (15,7)\n",
    "        plt.plot(self.data['date'],self.data['score'],marker='o',linewidth=3)\n",
    "        plt.yticks(np.arange(0,26,5),label='Score')  # custom y axis scale\n",
    "        plt.xticks(rotation=45)\n",
    "        plt.xlabel('Date')\n",
    "        plt.ylabel('Score')\n",
    "        \n",
    "        # Grid lines(in the interval of 5) for Y axis to represent the severity zones \n",
    "        plt.grid(which='major', axis = 'y', linestyle = '-.', linewidth =0.75,color='black')\n",
    "        plt.title('Patient_ID: {} created on {}. Status - {}'.format(p_id,str(self.data['patient_date_created'].unique()[0]),self.status()),fontsize=20)\n",
    "        \n",
    "        x0,x1 = plt.gca().get_xlim()\n",
    "        plt.axhline(y=10,linewidth=3, color='orange',linestyle='solid') # Threshold line\n",
    "        plt.text(x1,10, \" Further Clinical Evaluation Threhold\", ha='left', va='center')\n",
    "        plt.savefig('Patient_ID_{}_Progress_Chart.png'.format(p_id),bbox_inches='tight')"
   ]
  },
  {
   "cell_type": "code",
   "execution_count": null,
   "metadata": {},
   "outputs": [],
   "source": [
    "def main():\n",
    "    t1 = tracker(data) # Class object\n",
    "    t1.visualize()\n",
    "    \n",
    "\n",
    "if __name__ == \"__main__\":\n",
    "    main()"
   ]
  },
  {
   "cell_type": "code",
   "execution_count": null,
   "metadata": {},
   "outputs": [],
   "source": [
    "\"\"\"I am defining \"improvement/progress\" as \n",
    "case 1: a change in severity zone(lower) from 4th last score to 3rd last score and \n",
    "        the score stays in the same severity zone for the next 3 consecutive sessions\n",
    "        \n",
    "case 2: 4th last score and 3rd last score lie in the same severity zone but\n",
    "        last 2 scores fall in decereased severity zone\"\"\""
   ]
  }
 ],
 "metadata": {
  "kernelspec": {
   "display_name": "Python 3",
   "language": "python",
   "name": "python3"
  },
  "language_info": {
   "codemirror_mode": {
    "name": "ipython",
    "version": 3
   },
   "file_extension": ".py",
   "mimetype": "text/x-python",
   "name": "python",
   "nbconvert_exporter": "python",
   "pygments_lexer": "ipython3",
   "version": "3.6.3"
  }
 },
 "nbformat": 4,
 "nbformat_minor": 4
}
